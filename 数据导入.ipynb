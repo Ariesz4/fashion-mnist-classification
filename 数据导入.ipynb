{
 "cells": [
  {
   "cell_type": "markdown",
   "id": "942263ea-b1bc-4e7f-9067-d4f74d4b7932",
   "metadata": {},
   "source": [
    "# 数据导入\n",
    "- 以下为数据导入基本流程，可附在各自的模型代码开头，再根据需要自行调整"
   ]
  },
  {
   "cell_type": "code",
   "execution_count": 3,
   "id": "c716b42f-3983-47ab-8f17-cd9fb990ad24",
   "metadata": {},
   "outputs": [],
   "source": [
    "import pandas as pd\n",
    "from utils import *"
   ]
  },
  {
   "cell_type": "code",
   "execution_count": 4,
   "id": "64b4fd2d-6acd-4266-ad51-79d804635579",
   "metadata": {},
   "outputs": [],
   "source": [
    "train = pd.read_csv(\"./dataset/fashion-mnist_train.csv\")\n",
    "test = pd.read_csv(\"./dataset/fashion-mnist_test.csv\") \n",
    "(train_images, train_labels), (test_images, test_labels) = load_data(train,test)"
   ]
  },
  {
   "cell_type": "code",
   "execution_count": 5,
   "id": "2b07c3b6-815f-4cb7-9f1f-2a787f60eced",
   "metadata": {},
   "outputs": [],
   "source": [
    "train_images = train_images / 255.0  # normalize pixel values\n",
    "test_images = test_images / 255.0"
   ]
  },
  {
   "cell_type": "code",
   "execution_count": 6,
   "id": "91a2f5a3-7d03-4ff6-a75b-24f4b7203ea7",
   "metadata": {},
   "outputs": [
    {
     "data": {
      "text/plain": [
       "((60000, 784), (60000,))"
      ]
     },
     "execution_count": 6,
     "metadata": {},
     "output_type": "execute_result"
    }
   ],
   "source": [
    "train_images.shape,train_labels.shape"
   ]
  }
 ],
 "metadata": {
  "kernelspec": {
   "display_name": "tf_arm",
   "language": "python",
   "name": "tf_arm"
  },
  "language_info": {
   "codemirror_mode": {
    "name": "ipython",
    "version": 3
   },
   "file_extension": ".py",
   "mimetype": "text/x-python",
   "name": "python",
   "nbconvert_exporter": "python",
   "pygments_lexer": "ipython3",
   "version": "3.9.19"
  }
 },
 "nbformat": 4,
 "nbformat_minor": 5
}
